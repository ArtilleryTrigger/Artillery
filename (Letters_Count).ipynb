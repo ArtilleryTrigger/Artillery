{
  "nbformat": 4,
  "nbformat_minor": 0,
  "metadata": {
    "colab": {
      "name": "(Letters Count).ipynb",
      "provenance": [],
      "authorship_tag": "ABX9TyPgjZmD3WPHQxBwcneNxXyv",
      "include_colab_link": true
    },
    "kernelspec": {
      "name": "python3",
      "display_name": "Python 3"
    },
    "language_info": {
      "name": "python"
    }
  },
  "cells": [
    {
      "cell_type": "markdown",
      "metadata": {
        "id": "view-in-github",
        "colab_type": "text"
      },
      "source": [
        "<a href=\"https://colab.research.google.com/github/ArtilleryTrigger/Artillery/blob/main/(Letters_Count).ipynb\" target=\"_parent\"><img src=\"https://colab.research.google.com/assets/colab-badge.svg\" alt=\"Open In Colab\"/></a>"
      ]
    },
    {
      "cell_type": "code",
      "metadata": {
        "id": "rRXSZc-D7SOW"
      },
      "source": [
        "s = input(\"enter sentence:\")\n",
        "\n",
        "words = list(s)\n",
        "\n",
        "stnc = {w:words.count(w) for w in words}\n",
        "stnc"
      ],
      "execution_count": null,
      "outputs": []
    }
  ]
}