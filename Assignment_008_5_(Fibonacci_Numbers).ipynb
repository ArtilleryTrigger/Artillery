{
  "nbformat": 4,
  "nbformat_minor": 0,
  "metadata": {
    "colab": {
      "name": "Assignment-008/5 (Fibonacci Numbers).ipynb",
      "provenance": [],
      "authorship_tag": "ABX9TyP+c4UvldIx2sCDkw0XJptF",
      "include_colab_link": true
    },
    "kernelspec": {
      "name": "python3",
      "display_name": "Python 3"
    },
    "language_info": {
      "name": "python"
    }
  },
  "cells": [
    {
      "cell_type": "markdown",
      "metadata": {
        "id": "view-in-github",
        "colab_type": "text"
      },
      "source": [
        "<a href=\"https://colab.research.google.com/github/ArtilleryTrigger/Artillery/blob/main/Assignment_008_5_(Fibonacci_Numbers).ipynb\" target=\"_parent\"><img src=\"https://colab.research.google.com/assets/colab-badge.svg\" alt=\"Open In Colab\"/></a>"
      ]
    },
    {
      "cell_type": "code",
      "metadata": {
        "id": "JJMkp-_nRMrv"
      },
      "source": [
        "nterms = int(input(\"How many terms?:\"))\n",
        "n1, n2 = 1, 1\n",
        "count = 0\n",
        "fibonacci = []\n",
        "if nterms <= 0 :\n",
        "  print(\"Please enter a positive integer\")\n",
        "elif nterms == 1 :\n",
        "  print(\"Fibonacci sequence upto\",nterms,\":\")\n",
        "  print(n1)\n",
        "else:\n",
        "  while count < nterms :\n",
        "    fibonacci.append(n1)\n",
        "    nn = n1 + n2\n",
        "    n1 = n2\n",
        "    n2 = nn\n",
        "    \n",
        "    count += 1\n",
        "print(fibonacci)"
      ],
      "execution_count": null,
      "outputs": []
    }
  ]
}