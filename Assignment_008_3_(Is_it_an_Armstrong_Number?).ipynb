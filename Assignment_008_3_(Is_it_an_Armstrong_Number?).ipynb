{
  "nbformat": 4,
  "nbformat_minor": 0,
  "metadata": {
    "colab": {
      "name": "Assignment-008/3 (Is it an Armstrong Number?).ipynb",
      "provenance": [],
      "collapsed_sections": [],
      "authorship_tag": "ABX9TyPo7UoIycVR78eUFTs7JIxg",
      "include_colab_link": true
    },
    "kernelspec": {
      "name": "python3",
      "display_name": "Python 3"
    },
    "language_info": {
      "name": "python"
    }
  },
  "cells": [
    {
      "cell_type": "markdown",
      "metadata": {
        "id": "view-in-github",
        "colab_type": "text"
      },
      "source": [
        "<a href=\"https://colab.research.google.com/github/ArtilleryTrigger/Artillery/blob/main/Assignment_008_3_(Is_it_an_Armstrong_Number%3F).ipynb\" target=\"_parent\"><img src=\"https://colab.research.google.com/assets/colab-badge.svg\" alt=\"Open In Colab\"/></a>"
      ]
    },
    {
      "cell_type": "code",
      "metadata": {
        "id": "H5Gft_PPCrQO"
      },
      "source": [
        "while True:\n",
        "    num = input(\"Please enter a positive integer number : \")\n",
        "    if num.isdigit() :\n",
        "        a = num.split()\n",
        "        b=0\n",
        "        for i in range(len(a[0])) :\n",
        "            b+=int(a[0][i])**len(a[0])\n",
        "        if b==int(num):\n",
        "            print(num, \"is an Armstrong number\")\n",
        "        else:\n",
        "            print(num, \"is not an Armstrong number\")\n",
        "        break\n",
        "    else:\n",
        "        print(\"It is an invalid entry. Don't use non-numeric, float, or negative values!\")"
      ],
      "execution_count": null,
      "outputs": []
    }
  ]
}