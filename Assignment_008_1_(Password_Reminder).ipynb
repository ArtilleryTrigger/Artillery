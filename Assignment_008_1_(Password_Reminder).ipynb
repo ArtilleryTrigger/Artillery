{
  "nbformat": 4,
  "nbformat_minor": 0,
  "metadata": {
    "colab": {
      "name": "Assignment-008/1 (Password Reminder).ipynb",
      "provenance": [],
      "collapsed_sections": []
    },
    "kernelspec": {
      "name": "python3",
      "display_name": "Python 3"
    },
    "language_info": {
      "name": "python"
    }
  },
  "cells": [
    {
      "cell_type": "code",
      "metadata": {
        "id": "vLhKtq6ncoEf"
      },
      "source": [
        ""
      ],
      "execution_count": null,
      "outputs": []
    },
    {
      "cell_type": "code",
      "metadata": {
        "colab": {
          "base_uri": "https://localhost:8080/"
        },
        "id": "mHFpXGaQa3hB",
        "outputId": "77517490-1cc3-4aba-d468-0bcdb33dd5bf"
      },
      "source": [
        "name = input(\"enter your name:\")\n",
        "if name == \"Joseph\":\n",
        "  print(\"Hello, name! The password is : W@12\")\n",
        "else:\n",
        "  print(\"Hello, name! See you later.\")"
      ],
      "execution_count": null,
      "outputs": [
        {
          "output_type": "stream",
          "text": [
            "enter your name:Mahmut\n",
            "Hello, name! See you later.\n"
          ],
          "name": "stdout"
        }
      ]
    }
  ]
}