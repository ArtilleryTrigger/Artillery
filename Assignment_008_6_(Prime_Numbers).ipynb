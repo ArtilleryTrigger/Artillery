{
  "nbformat": 4,
  "nbformat_minor": 0,
  "metadata": {
    "colab": {
      "name": "Assignment-008/6 (Prime Numbers).ipynb",
      "provenance": [],
      "authorship_tag": "ABX9TyNRDaH50wmC8vLk4t7OFP8m",
      "include_colab_link": true
    },
    "kernelspec": {
      "name": "python3",
      "display_name": "Python 3"
    },
    "language_info": {
      "name": "python"
    }
  },
  "cells": [
    {
      "cell_type": "markdown",
      "metadata": {
        "id": "view-in-github",
        "colab_type": "text"
      },
      "source": [
        "<a href=\"https://colab.research.google.com/github/ArtilleryTrigger/Artillery/blob/main/Assignment_008_6_(Prime_Numbers).ipynb\" target=\"_parent\"><img src=\"https://colab.research.google.com/assets/colab-badge.svg\" alt=\"Open In Colab\"/></a>"
      ]
    },
    {
      "cell_type": "code",
      "metadata": {
        "id": "Oq8uQsEJMjwc"
      },
      "source": [
        "limit_number = int(input(\"Up to what number to find prime numbers:\"))\n",
        "prime_number = []\n",
        "for num in range(1, (limit_number+1)):\n",
        "  if num > 1:\n",
        "    for i in range(2, num):\n",
        "      if (num % i) == 0:\n",
        "        break\n",
        "    else:\n",
        "      prime_number.append(num)\n",
        "print(prime_number)\n",
        "\n"
      ],
      "execution_count": null,
      "outputs": []
    }
  ]
}