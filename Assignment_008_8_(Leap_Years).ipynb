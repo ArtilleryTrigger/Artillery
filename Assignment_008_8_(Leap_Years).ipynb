{
  "nbformat": 4,
  "nbformat_minor": 0,
  "metadata": {
    "colab": {
      "name": "Assignment-008/8 (Leap Years).ipynb",
      "provenance": [],
      "authorship_tag": "ABX9TyOqHnv5GCeS9gxYiSt4DP3Z",
      "include_colab_link": true
    },
    "kernelspec": {
      "name": "python3",
      "display_name": "Python 3"
    },
    "language_info": {
      "name": "python"
    }
  },
  "cells": [
    {
      "cell_type": "markdown",
      "metadata": {
        "id": "view-in-github",
        "colab_type": "text"
      },
      "source": [
        "<a href=\"https://colab.research.google.com/github/ArtilleryTrigger/Artillery/blob/main/Assignment_008_8_(Leap_Years).ipynb\" target=\"_parent\"><img src=\"https://colab.research.google.com/assets/colab-badge.svg\" alt=\"Open In Colab\"/></a>"
      ]
    },
    {
      "cell_type": "code",
      "metadata": {
        "colab": {
          "base_uri": "https://localhost:8080/"
        },
        "id": "Ubgb6ZE56MzG",
        "outputId": "cfab3eec-861a-4a28-ec85-c74fba09ace5"
      },
      "source": [
        "leap_year = int(input(\"enter year:\"))\n",
        "if leap_year % 400 == 0 :\n",
        "  print(leap_year, \" is a leap year\")\n",
        "elif leap_year % 100 == 0 :\n",
        "  print(leap_year, \" is not a leap year\")\n",
        "elif leap_year % 4 == 0 :\n",
        "  print(leap_year, \" is a leap year\")\n",
        "else :\n",
        "  print(leap_year, \" is not a leap year\")"
      ],
      "execution_count": 1,
      "outputs": [
        {
          "output_type": "stream",
          "text": [
            "enter year:2020\n",
            "2020  is a leap year\n"
          ],
          "name": "stdout"
        }
      ]
    }
  ]
}