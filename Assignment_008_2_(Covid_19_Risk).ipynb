{
  "nbformat": 4,
  "nbformat_minor": 0,
  "metadata": {
    "colab": {
      "name": "Assignment-008/2 (Covid-19 Risk).ipynb",
      "provenance": []
    },
    "kernelspec": {
      "name": "python3",
      "display_name": "Python 3"
    },
    "language_info": {
      "name": "python"
    }
  },
  "cells": [
    {
      "cell_type": "code",
      "metadata": {
        "id": "u_2QudjstqDj"
      },
      "source": [
        "age = (input(\"Are you a cigarette addict older than 75 years old?(Yes/No)\"))\n",
        "chronic = (input(\"Do you have a severe chronic disease?(Yes/No)\"))\n",
        "immune = (input(\"Is your immune system too weak?(Yes/No)\"))\n",
        "age = age.lower()\n",
        "chronic = chronic.lower()\n",
        "immune = immune.lower()\n",
        "if age == \"yes\":\n",
        "  age = True\n",
        "else:\n",
        "  age = False\n",
        "if chronic == \"yes\":\n",
        "  chronic = True\n",
        "else:\n",
        "  chronic = False\n",
        "if immune == \"yes\":\n",
        "  immune = True\n",
        "else:\n",
        "  immune = False\n",
        "risk = age or chronic or immune\n",
        "print(\"Risk:\", risk)\n"
      ],
      "execution_count": null,
      "outputs": []
    }
  ]
}