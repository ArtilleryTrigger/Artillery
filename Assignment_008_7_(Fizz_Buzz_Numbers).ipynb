{
  "nbformat": 4,
  "nbformat_minor": 0,
  "metadata": {
    "colab": {
      "name": "Assignment-008/7 (Fizz Buzz Numbers).ipynb",
      "provenance": [],
      "authorship_tag": "ABX9TyMeLmB/haFon8f0RGI0F0zs",
      "include_colab_link": true
    },
    "kernelspec": {
      "name": "python3",
      "display_name": "Python 3"
    },
    "language_info": {
      "name": "python"
    }
  },
  "cells": [
    {
      "cell_type": "markdown",
      "metadata": {
        "id": "view-in-github",
        "colab_type": "text"
      },
      "source": [
        "<a href=\"https://colab.research.google.com/github/ArtilleryTrigger/Artillery/blob/main/Assignment_008_7_(Fizz_Buzz_Numbers).ipynb\" target=\"_parent\"><img src=\"https://colab.research.google.com/assets/colab-badge.svg\" alt=\"Open In Colab\"/></a>"
      ]
    },
    {
      "cell_type": "code",
      "metadata": {
        "colab": {
          "base_uri": "https://localhost:8080/"
        },
        "id": "I3CXWHmgRfoA",
        "outputId": "79eff2c1-3b12-4548-878e-d58bdb477ffa"
      },
      "source": [
        "num = int(input(\"Print numbers from 1 to 100 inclusively:\"))\n",
        "numbers = []\n",
        "for i in range(1, num+1) :\n",
        "  if i % 15 == 0 :\n",
        "    i = \"FizzBuzz\"\n",
        "    numbers.append(i)\n",
        "  elif i % 3 == 0 :\n",
        "    i = \"Fizz\"\n",
        "    numbers.append(i)\n",
        "  elif i % 5 == 0 :\n",
        "    i = \"Buzz\"\n",
        "    numbers.append(i)\n",
        "  else :\n",
        "    numbers.append(i)\n",
        "print(numbers) "
      ],
      "execution_count": 21,
      "outputs": [
        {
          "output_type": "stream",
          "text": [
            "Print numbers from 1 to 100 inclusively:100\n",
            "[1, 2, 'Fizz', 4, 'Buzz', 'Fizz', 7, 8, 'Fizz', 'Buzz', 11, 'Fizz', 13, 14, 'FizzBuzz', 16, 17, 'Fizz', 19, 'Buzz', 'Fizz', 22, 23, 'Fizz', 'Buzz', 26, 'Fizz', 28, 29, 'FizzBuzz', 31, 32, 'Fizz', 34, 'Buzz', 'Fizz', 37, 38, 'Fizz', 'Buzz', 41, 'Fizz', 43, 44, 'FizzBuzz', 46, 47, 'Fizz', 49, 'Buzz', 'Fizz', 52, 53, 'Fizz', 'Buzz', 56, 'Fizz', 58, 59, 'FizzBuzz', 61, 62, 'Fizz', 64, 'Buzz', 'Fizz', 67, 68, 'Fizz', 'Buzz', 71, 'Fizz', 73, 74, 'FizzBuzz', 76, 77, 'Fizz', 79, 'Buzz', 'Fizz', 82, 83, 'Fizz', 'Buzz', 86, 'Fizz', 88, 89, 'FizzBuzz', 91, 92, 'Fizz', 94, 'Buzz', 'Fizz', 97, 98, 'Fizz', 'Buzz']\n"
          ],
          "name": "stdout"
        }
      ]
    }
  ]
}